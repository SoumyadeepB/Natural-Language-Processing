{
 "cells": [
  {
   "cell_type": "code",
   "execution_count": 1,
   "metadata": {},
   "outputs": [],
   "source": [
    "import os\n",
    "from pathlib import Path\n",
    "import sys\n",
    "import hparams as hp\n",
    "import pandas as pd\n",
    "import librosa as lr\n",
    "import librosa.display as ld\n",
    "import glob\n",
    "import IPython.display as ipd\n",
    "import matplotlib.pyplot as plt\n",
    "import numpy as np\n",
    "from tqdm import tqdm"
   ]
  },
  {
   "cell_type": "code",
   "execution_count": 2,
   "metadata": {},
   "outputs": [],
   "source": [
    "############## Hyperparameters (to be moved to hparams.py)  #######################\n",
    "\n",
    "### Directory Locations ###\n",
    "mfcc_dir = \"./data/LJSpeech/mfcc/*.npy\"\n",
    "test_dir = \"./data/LibriSpeech/test-clean\"\n",
    "save_dir_mfcc = \"./data/LJSpeech/mfcc/\"\n",
    "save_dir_transcripts = \"./data/LJSpeech/transcripts/\"\n",
    "\n",
    "### FFT Parameters ###\n",
    "n_fft = 2048\n",
    "hop_length = 512\n",
    "n_mfcc = 13\n",
    "mel_len = 290                      # frame length of mel spectrogram > Spectrogram is split into short-time frames\n",
    "n_fft = 1024 \n",
    "n_mels = 80                        # number of mel filters (number of Mel bands to generate)\n",
    "hop_length = 256                   # audio samples between adjacent STFT columns\n",
    "win_length = 1024                  # window length\n",
    "mel_fmin = 0.0                     # minimum mel bank\n",
    "mel_fmax = 8000                    # maximum mel bank\n",
    "r = 3                              # number of frames generated on each timestep"
   ]
  },
  {
   "cell_type": "code",
   "execution_count": null,
   "metadata": {},
   "outputs": [],
   "source": [
    "files = glob.glob(mfcc_dir)\n",
    "\n"
   ]
  },
  {
   "cell_type": "code",
   "execution_count": 16,
   "metadata": {},
   "outputs": [
    {
     "data": {
      "text/plain": [
       "'./data/LJSpeech/mfcc\\\\LJ001-0002.npy'"
      ]
     },
     "execution_count": 16,
     "metadata": {},
     "output_type": "execute_result"
    }
   ],
   "source": [
    "f"
   ]
  },
  {
   "cell_type": "code",
   "execution_count": 21,
   "metadata": {},
   "outputs": [],
   "source": [
    "files = glob.glob(mfcc_dir)\n",
    "x= list(set(f.split(\"-\")[0][-5:] for f in files))\n",
    "mfcc_dict = {k:[] for k in x}   #Create a dictionary for each speaker ID to store all MFCCs"
   ]
  },
  {
   "cell_type": "code",
   "execution_count": null,
   "metadata": {},
   "outputs": [],
   "source": []
  },
  {
   "cell_type": "code",
   "execution_count": 22,
   "metadata": {},
   "outputs": [],
   "source": [
    "def load_mfccs(files):   \n",
    "    # Load all generated MFCCs into respective Speaker Ids\n",
    "    for f in files:\n",
    "        s_id = f.split(\"-\")[0][-5:]\n",
    "        mfcc = np.load(f)\n",
    "        mfcc_dict[s_id].append(mfcc)"
   ]
  },
  {
   "cell_type": "code",
   "execution_count": 24,
   "metadata": {},
   "outputs": [],
   "source": [
    "load_mfccs(files)"
   ]
  },
  {
   "cell_type": "code",
   "execution_count": 25,
   "metadata": {},
   "outputs": [
    {
     "data": {
      "text/plain": [
       "(186, 100)"
      ]
     },
     "execution_count": 25,
     "metadata": {},
     "output_type": "execute_result"
    }
   ],
   "source": [
    "len(mfcc_dict['LJ001']), len(mfcc_dict['LJ002'])"
   ]
  },
  {
   "cell_type": "code",
   "execution_count": null,
   "metadata": {},
   "outputs": [],
   "source": []
  }
 ],
 "metadata": {
  "kernelspec": {
   "display_name": "Python 3",
   "language": "python",
   "name": "python3"
  },
  "language_info": {
   "codemirror_mode": {
    "name": "ipython",
    "version": 3
   },
   "file_extension": ".py",
   "mimetype": "text/x-python",
   "name": "python",
   "nbconvert_exporter": "python",
   "pygments_lexer": "ipython3",
   "version": "3.7.3"
  }
 },
 "nbformat": 4,
 "nbformat_minor": 2
}
