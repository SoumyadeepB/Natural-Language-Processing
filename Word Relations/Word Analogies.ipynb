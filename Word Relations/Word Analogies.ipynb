{
 "cells": [
  {
   "cell_type": "markdown",
   "metadata": {},
   "source": [
    " Download the GloVe dataset from \"http://nlp.stanford.edu/data/glove.6B.zip\ ""
   ]
  },
  {
   "cell_type": "code",
   "execution_count": 16,
   "metadata": {},
   "outputs": [],
   "source": [
    "#future is the missing compatibility layer between Python 2 and Python 3. It allows you to use a single, clean Python 3.x-compatible codebase to support both Python 2 and Python 3 with minimal overhead.\n",
    "from __future__ import print_function,division\n",
    "from future.utils import iteritems\n",
    "from builtins import range\n",
    "from tqdm import tqdm_notebook,tqdm_gui #tqdm is an extensible progress-bar for Python\n",
    "import os\n",
    "import numpy as np\n",
    "from sklearn.metrics.pairwise import pairwise_distances"
   ]
  },
  {
   "cell_type": "code",
   "execution_count": 2,
   "metadata": {},
   "outputs": [],
   "source": [
    "## print(os.listdir(\"../../Datasets\")) "
   ]
  },
  {
   "cell_type": "code",
   "execution_count": 3,
   "metadata": {},
   "outputs": [],
   "source": [
    "# # load in pre-trained word vectors\n",
    "# print(\"Loading word vectors...\")\n",
    "# word2vec = {}\n",
    "# embedding = []\n",
    "# idx2word = []\n",
    "# files = [\"glove.6B.50d.txt\",\"glove.6B.100d.txt\",\"glove.6B.200d.txt\",\"glove.6B.300d.txt\"]\n",
    "# for i in tqdm_notebook(range(0,4)):\n",
    "#     with open('../Word Relations/glove6B/'+files[i], encoding='utf-8') as f:\n",
    "#       #space-separated text file in the format: word vec[0] vec[1] vec[2] ...\n",
    "#       for line in tqdm(f):\n",
    "#         values = line.split()\n",
    "#         word = values[0]\n",
    "#         vec = np.asarray(values[1:], dtype='float32')\n",
    "#         word2vec[word] = vec\n",
    "#         embedding.append(vec)\n",
    "#         idx2word.append(word)\n",
    "# print(\"Loading complete !\")"
   ]
  },
  {
   "cell_type": "code",
   "execution_count": 4,
   "metadata": {},
   "outputs": [
    {
     "name": "stdout",
     "output_type": "stream",
     "text": [
      "Loading word vectors...\n"
     ]
    },
    {
     "data": {
      "application/vnd.jupyter.widget-view+json": {
       "model_id": "cbc46a33c9df4d608d6b362c35675435",
       "version_major": 2,
       "version_minor": 0
      },
      "text/plain": [
       "HBox(children=(IntProgress(value=1, bar_style='info', max=1), HTML(value='')))"
      ]
     },
     "metadata": {},
     "output_type": "display_data"
    },
    {
     "name": "stdout",
     "output_type": "stream",
     "text": [
      "\n",
      "Loading complete!\n"
     ]
    }
   ],
   "source": [
    "# load in pre-trained word vectors\n",
    "print(\"Loading word vectors...\")\n",
    "word2vec = {}\n",
    "embedding = []\n",
    "index2word = []\n",
    "\n",
    "with open('../../Datasets/glove6B/glove.6B.50d.txt', encoding='utf-8') as f:\n",
    "  #space-separated text file in the format: word vec[0] vec[1] vec[2] ...\n",
    "  for line in tqdm_notebook(f):\n",
    "    values = line.split()\n",
    "    word = values[0]\n",
    "    vec = np.asarray(values[1:], dtype='float32')\n",
    "    word2vec[word] = vec\n",
    "    embedding.append(vec)\n",
    "    index2word.append(word)\n",
    "print(\"Loading complete!\")"
   ]
  },
  {
   "cell_type": "code",
   "execution_count": 5,
   "metadata": {},
   "outputs": [
    {
     "name": "stdout",
     "output_type": "stream",
     "text": [
      "Number of word vectors: 400000\n"
     ]
    }
   ],
   "source": [
    "print('Number of word vectors: %s' % len(word2vec))\n",
    "embedding = np.array(embedding)\n",
    "V, dim = embedding.shape"
   ]
  },
  {
   "cell_type": "code",
   "execution_count": null,
   "metadata": {},
   "outputs": [],
   "source": []
  },
  {
   "cell_type": "code",
   "execution_count": 6,
   "metadata": {},
   "outputs": [
    {
     "data": {
      "text/plain": [
       "(400000, 50)"
      ]
     },
     "execution_count": 6,
     "metadata": {},
     "output_type": "execute_result"
    }
   ],
   "source": [
    "V,dim"
   ]
  },
  {
   "cell_type": "code",
   "execution_count": 18,
   "metadata": {},
   "outputs": [],
   "source": [
    "def nearestNeighbors(w, n=10):\n",
    "  if w not in word2vec:\n",
    "    print(\"Word %s does not exist in the dictionary:\" % w)\n",
    "    return\n",
    "\n",
    "  v = word2vec[w]\n",
    "  #pairwise_distances computes the distance matrix from a vector array X and Y.\n",
    "  dist = pairwise_distances(v.reshape(1, dim), embedding,  metric = 'cosine').reshape(V)\n",
    "  #argsort: Returns the indices that sorts an array.\n",
    "  index_list = dist.argsort()[1:n+1] #leaving out the first index, as it is the distance with the same word\n",
    "  print(\"The neighbors of %s are: \" % w)\n",
    "  for index in tqdm_notebook(index_list):\n",
    "    print(\"\\t%s\" % index2word[index])"
   ]
  },
  {
   "cell_type": "code",
   "execution_count": 34,
   "metadata": {},
   "outputs": [],
   "source": [
    "def find_analogy(w1, w2, w3):\n",
    "  for w in (w1, w2, w3):\n",
    "    if w not in word2vec:\n",
    "      print(\"%s not in dictionary\" % w)\n",
    "      return\n",
    "\n",
    "  # Word A - Word B = Word C - Word D\n",
    "  # Word C = Word A - Word B + Word D\n",
    "  A = word2vec[w1]\n",
    "  B = word2vec[w2]\n",
    "  D = word2vec[w3]\n",
    "  C = A - B + D\n",
    "\n",
    "  dist = pairwise_distances(C.reshape(1, dim), embedding, metric = 'cosine').reshape(V)\n",
    "  index_list = dist.argsort()[:4]\n",
    "  for index in index_list:\n",
    "    word = index2word[index]\n",
    "    if word not in (w1, w2, w3): \n",
    "      best = word\n",
    "      break\n",
    "\n",
    "  print(w1, \"-\", w2, \"=\", best, \"-\", w3)\n"
   ]
  },
  {
   "cell_type": "code",
   "execution_count": 32,
   "metadata": {},
   "outputs": [
    {
     "name": "stdout",
     "output_type": "stream",
     "text": [
      "The neighbors of football are: \n"
     ]
    },
    {
     "data": {
      "application/vnd.jupyter.widget-view+json": {
       "model_id": "11b04bcb669c49e58e06d641099103b8",
       "version_major": 2,
       "version_minor": 0
      },
      "text/plain": [
       "HBox(children=(IntProgress(value=0, max=10), HTML(value='')))"
      ]
     },
     "metadata": {},
     "output_type": "display_data"
    },
    {
     "name": "stdout",
     "output_type": "stream",
     "text": [
      "\tsoccer\n",
      "\tleague\n",
      "\tbasketball\n",
      "\tclub\n",
      "\thockey\n",
      "\trugby\n",
      "\tteam\n",
      "\tbaseball\n",
      "\tcoaching\n",
      "\tplayer\n",
      "\n",
      "The neighbors of germany are: \n"
     ]
    },
    {
     "data": {
      "application/vnd.jupyter.widget-view+json": {
       "model_id": "df14d56535b1496cb3f7497a0ce7c122",
       "version_major": 2,
       "version_minor": 0
      },
      "text/plain": [
       "HBox(children=(IntProgress(value=0, max=10), HTML(value='')))"
      ]
     },
     "metadata": {},
     "output_type": "display_data"
    },
    {
     "name": "stdout",
     "output_type": "stream",
     "text": [
      "\taustria\n",
      "\tgerman\n",
      "\tdenmark\n",
      "\tswitzerland\n",
      "\tberlin\n",
      "\teurope\n",
      "\tpoland\n",
      "\tfrance\n",
      "\tnetherlands\n",
      "\tmunich\n",
      "\n",
      "The neighbors of india are: \n"
     ]
    },
    {
     "data": {
      "application/vnd.jupyter.widget-view+json": {
       "model_id": "b0e8e5eb1ad1480da732fd726559d9bd",
       "version_major": 2,
       "version_minor": 0
      },
      "text/plain": [
       "HBox(children=(IntProgress(value=0, max=10), HTML(value='')))"
      ]
     },
     "metadata": {},
     "output_type": "display_data"
    },
    {
     "name": "stdout",
     "output_type": "stream",
     "text": [
      "\tindian\n",
      "\tpakistan\n",
      "\tmalaysia\n",
      "\tbangladesh\n",
      "\tdelhi\n",
      "\tindonesia\n",
      "\tthailand\n",
      "\tsri\n",
      "\tlanka\n",
      "\tafrica\n",
      "\n",
      "The neighbors of money are: \n"
     ]
    },
    {
     "data": {
      "application/vnd.jupyter.widget-view+json": {
       "model_id": "a55bb04a52e54ba8b804aa10c5acae88",
       "version_major": 2,
       "version_minor": 0
      },
      "text/plain": [
       "HBox(children=(IntProgress(value=0, max=10), HTML(value='')))"
      ]
     },
     "metadata": {},
     "output_type": "display_data"
    },
    {
     "name": "stdout",
     "output_type": "stream",
     "text": [
      "\tcash\n",
      "\tpaying\n",
      "\tfunds\n",
      "\tpay\n",
      "\traise\n",
      "\tpaid\n",
      "\tbillions\n",
      "\tmillions\n",
      "\tget\n",
      "\tfund\n",
      "\n",
      "The neighbors of computer are: \n"
     ]
    },
    {
     "data": {
      "application/vnd.jupyter.widget-view+json": {
       "model_id": "2e669da585c743b0b60c5f976405db8c",
       "version_major": 2,
       "version_minor": 0
      },
      "text/plain": [
       "HBox(children=(IntProgress(value=0, max=10), HTML(value='')))"
      ]
     },
     "metadata": {},
     "output_type": "display_data"
    },
    {
     "name": "stdout",
     "output_type": "stream",
     "text": [
      "\tcomputers\n",
      "\tsoftware\n",
      "\ttechnology\n",
      "\telectronic\n",
      "\tinternet\n",
      "\tcomputing\n",
      "\tdevices\n",
      "\tdigital\n",
      "\tapplications\n",
      "\tpc\n",
      "\n"
     ]
    }
   ],
   "source": [
    "nearestNeighbors('football')\n",
    "nearestNeighbors('germany')\n",
    "nearestNeighbors('india')\n",
    "nearestNeighbors('money')\n",
    "nearestNeighbors('computer')"
   ]
  },
  {
   "cell_type": "code",
   "execution_count": 60,
   "metadata": {},
   "outputs": [
    {
     "name": "stdout",
     "output_type": "stream",
     "text": [
      "uncle - aunt = king - queen\n",
      "shoe - socks = hat - shirt\n",
      "car - wheels = flying - wings\n",
      "day - night = summer - winter\n",
      "truck - petrol = vehicle - battery\n",
      "ball - football = glove - baseball\n"
     ]
    }
   ],
   "source": [
    "find_analogy(\"uncle\",\"aunt\",\"queen\")\n",
    "find_analogy(\"shoe\",\"socks\",\"shirt\")\n",
    "find_analogy(\"car\",\"wheels\",\"wings\")\n",
    "find_analogy(\"day\",\"night\",\"winter\")\n",
    "find_analogy(\"truck\",\"petrol\",\"battery\")\n",
    "find_analogy(\"ball\",\"football\",\"baseball\")"
   ]
  },
  {
   "cell_type": "code",
   "execution_count": null,
   "metadata": {},
   "outputs": [],
   "source": []
  }
 ],
 "metadata": {
  "kernelspec": {
   "display_name": "Python 3",
   "language": "python",
   "name": "python3"
  },
  "language_info": {
   "codemirror_mode": {
    "name": "ipython",
    "version": 3
   },
   "file_extension": ".py",
   "mimetype": "text/x-python",
   "name": "python",
   "nbconvert_exporter": "python",
   "pygments_lexer": "ipython3",
   "version": "3.7.3"
  }
 },
 "nbformat": 4,
 "nbformat_minor": 2
}
